{
 "cells": [
  {
   "cell_type": "code",
   "execution_count": 203,
   "metadata": {},
   "outputs": [],
   "source": [
    "import pandas as pd\n",
    "import os\n",
    "\n",
    "path_names = 'names'"
   ]
  },
  {
   "cell_type": "code",
   "execution_count": 204,
   "metadata": {},
   "outputs": [
    {
     "name": "stdout",
     "output_type": "stream",
     "text": [
      "['James', 'John', 'Robert']\n"
     ]
    }
   ],
   "source": [
    "def count_top3(list_):\n",
    "    df_ = {}\n",
    "    for year in list_:\n",
    "        file = os.path.join(path_names, f'yob{year}.txt')\n",
    "        df_[year] = pd.read_csv(file, names=['Name','Gender','Count'], delimiter=',')\n",
    "    df_all =  pd.concat(df_).reset_index(level=[0, 1], drop=True)\n",
    "    df_group = df_all.groupby('Name', as_index=False)['Count'].sum()\n",
    "    result = df_group.sort_values(by=['Count'], ascending=False).reset_index(level=0, drop=True)\n",
    "    print(list(result['Name'][0:3]))\n",
    "    \n",
    "count_top3([1900, 1950, 2000])"
   ]
  },
  {
   "cell_type": "code",
   "execution_count": 205,
   "metadata": {},
   "outputs": [
    {
     "name": "stdout",
     "output_type": "stream",
     "text": [
      "{'F': [299798, 1713065, 1815295], 'M': [150480, 1790437, 1963202]}\n"
     ]
    }
   ],
   "source": [
    "def count_dynamics(list_):\n",
    "    df_ = {}\n",
    "    result = {'F': [], 'M': []}\n",
    "    for year in list_:\n",
    "        file = os.path.join(path_names, f'yob{year}.txt')\n",
    "        df_[year] = pd.read_csv(file, names=['Name','Gender','Count'], delimiter=',')\n",
    "    df_all =  pd.concat(df_).reset_index(level=[1], drop=True)\n",
    "    df_all.index.name = 'Year'\n",
    "    df_group = df_all.groupby(['Year','Gender']).sum()\n",
    "    for year in list_:\n",
    "        result['F'].append(df_group.loc[year].loc['F'][0])\n",
    "        result['M'].append(df_group.loc[year].loc['M'][0])\n",
    "    print(result)\n",
    "\n",
    "count_dynamics([1900, 1950, 2000])"
   ]
  }
 ],
 "metadata": {
  "kernelspec": {
   "display_name": "Python 3",
   "language": "python",
   "name": "python3"
  },
  "language_info": {
   "codemirror_mode": {
    "name": "ipython",
    "version": 3
   },
   "file_extension": ".py",
   "mimetype": "text/x-python",
   "name": "python",
   "nbconvert_exporter": "python",
   "pygments_lexer": "ipython3",
   "version": "3.7.3"
  }
 },
 "nbformat": 4,
 "nbformat_minor": 2
}
